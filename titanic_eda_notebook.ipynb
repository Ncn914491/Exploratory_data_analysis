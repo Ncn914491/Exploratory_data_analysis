import pandas as pd
import numpy as np
import matplotlib.pyplot as plt
import seaborn as sns
import plotly.express as px
import plotly.graph_objects as go
from plotly.subplots import make_subplots

# Set notebook display options
pd.set_option('display.max_columns', None)
pd.set_option('display.max_rows', 20)
pd.set_option('display.width', 1000)

# Set style for matplotlib plots
plt.style.use('seaborn-v0_8-whitegrid')
sns.set_palette('viridis')

# Load the dataset
df = pd.read_csv('../data/titanic.csv')

# Display basic information about the dataset
print("# 1. Initial Data Exploration")
print("\n## 1.1 Dataset Information:")
print(f"Shape: {df.shape}")
print("\n## 1.2 Data Types:")
print(df.dtypes)
print("\n## 1.3 First 5 rows:")
print(df.head())

# Check for missing values
print("\n## 1.4 Missing Values:")
missing_values = df.isnull().sum()
missing_percentage = (df.isnull().sum() / len(df)) * 100
missing_data = pd.DataFrame({'Missing Values': missing_values, 
                            'Percentage': missing_percentage})
print(missing_data[missing_data['Missing Values'] > 0])

# Generate summary statistics
print("\n## 1.5 Summary Statistics:")
summary_stats = df.describe(include='all').T
summary_stats['missing'] = df.isnull().sum()
summary_stats['missing_percentage'] = (df.isnull().sum() / len(df)) * 100
print(summary_stats)

# Save summary statistics to CSV
summary_stats.to_csv('../summary_statistics.csv')

print("\n# 2. Visualizations")

# List of numeric features for visualization
numeric_features = ['Age', 'Fare', 'SibSp', 'Parch']

print("\n## 2.1 Histograms and Distributions")
for feature in numeric_features:
    plt.figure(figsize=(10, 6))
    sns.histplot(df[feature].dropna(), kde=True, bins=30)
    plt.title(f'Distribution of {feature}', fontsize=16)
    plt.xlabel(feature, fontsize=12)
    plt.ylabel('Frequency', fontsize=12)
    plt.grid(True, alpha=0.3)
    plt.show()

print("\n## 2.2 Boxplots")
for feature in numeric_features:
    plt.figure(figsize=(10, 6))
    sns.boxplot(y=df[feature].dropna())
    plt.title(f'Boxplot of {feature}', fontsize=16)
    plt.ylabel(feature, fontsize=12)
    plt.grid(True, alpha=0.3)
    plt.show()

print("\n## 2.3 Boxplots by Survival Status")
for feature in numeric_features:
    plt.figure(figsize=(10, 6))
    sns.boxplot(x='Survived', y=feature, data=df)
    plt.title(f'Boxplot of {feature} by Survival Status', fontsize=16)
    plt.xlabel('Survived (0=No, 1=Yes)', fontsize=12)
    plt.ylabel(feature, fontsize=12)
    plt.grid(True, alpha=0.3)
    plt.show()

print("\n# 3. Feature Relationships")

# Convert categorical variables to numeric for correlation analysis
df_encoded = df.copy()
df_encoded['Sex'] = df_encoded['Sex'].map({'male': 0, 'female': 1})
df_encoded['Embarked'] = df_encoded['Embarked'].map({'C': 0, 'Q': 1, 'S': 2})

# Select relevant features for correlation analysis
features_for_correlation = ['Survived', 'Pclass', 'Sex', 'Age', 'SibSp', 'Parch', 'Fare', 'Embarked']
df_corr = df_encoded[features_for_correlation].dropna()

print("\n## 3.1 Correlation Matrix")
plt.figure(figsize=(12, 10))
corr_matrix = df_corr.corr()
mask = np.triu(np.ones_like(corr_matrix, dtype=bool))
sns.heatmap(corr_matrix, mask=mask, annot=True, fmt='.2f', cmap='coolwarm', 
            linewidths=0.5, cbar_kws={'shrink': .8})
plt.title('Correlation Matrix of Titanic Dataset Features', fontsize=16)
plt.tight_layout()
plt.show()

print("\n## 3.2 Pairplot")
plt.figure(figsize=(16, 14))
numeric_features = ['Age', 'Fare', 'SibSp', 'Parch']
pairplot = sns.pairplot(df, vars=numeric_features, hue='Survived', palette='viridis', 
                        diag_kind='kde', plot_kws={'alpha': 0.6})
plt.suptitle('Pairplot of Numeric Features by Survival Status', y=1.02, fontsize=16)
plt.show()

print("\n# 4. Patterns and Anomalies")

# Overall survival rate
overall_survival = df['Survived'].mean() * 100
print(f"\n## 4.1 Overall survival rate: {overall_survival:.2f}%")

# Survival by gender
survival_by_gender = df.groupby('Sex')['Survived'].mean() * 100
print("\n## 4.2 Survival rate by gender:")
print(survival_by_gender)

# Survival by class
survival_by_class = df.groupby('Pclass')['Survived'].mean() * 100
print("\n## 4.3 Survival rate by passenger class:")
print(survival_by_class)

# Survival by age groups
df['AgeGroup'] = pd.cut(df['Age'], bins=[0, 12, 18, 35, 60, 100], 
                        labels=['Child', 'Teenager', 'Young Adult', 'Adult', 'Senior'])
survival_by_age = df.groupby('AgeGroup')['Survived'].mean() * 100
print("\n## 4.4 Survival rate by age group:")
print(survival_by_age)

# Survival by embarkation point
survival_by_embarked = df.groupby('Embarked')['Survived'].mean() * 100
print("\n## 4.5 Survival rate by embarkation point:")
print(survival_by_embarked)

# Survival by family size (SibSp + Parch)
df['FamilySize'] = df['SibSp'] + df['Parch']
survival_by_family = df.groupby('FamilySize')['Survived'].mean() * 100
print("\n## 4.6 Survival rate by family size:")
print(survival_by_family)

print("\n## 4.7 Visualizing Key Patterns")

# Survival by gender visualization
plt.figure(figsize=(10, 6))
sns.barplot(x='Sex', y='Survived', data=df)
plt.title('Survival Rate by Gender', fontsize=16)
plt.xlabel('Gender', fontsize=12)
plt.ylabel('Survival Rate', fontsize=12)
plt.grid(True, alpha=0.3)
plt.show()

# Survival by class visualization
plt.figure(figsize=(10, 6))
sns.barplot(x='Pclass', y='Survived', data=df)
plt.title('Survival Rate by Passenger Class', fontsize=16)
plt.xlabel('Passenger Class', fontsize=12)
plt.ylabel('Survival Rate', fontsize=12)
plt.grid(True, alpha=0.3)
plt.show()

# Class and gender combined effect on survival
plt.figure(figsize=(12, 6))
sns.barplot(x='Pclass', y='Survived', hue='Sex', data=df)
plt.title('Survival Rate by Class and Gender', fontsize=16)
plt.xlabel('Passenger Class', fontsize=12)
plt.ylabel('Survival Rate', fontsize=12)
plt.grid(True, alpha=0.3)
plt.show()

print("\n# 5. Feature-Level Inferences")

# Create a summary visualization of feature importance for survival
plt.figure(figsize=(12, 8))
# Convert categorical variables to numeric for correlation analysis
df_encoded = df.copy()
df_encoded['Sex'] = df_encoded['Sex'].map({'male': 0, 'female': 1})
df_encoded['Embarked'] = df_encoded['Embarked'].map({'C': 0, 'Q': 1, 'S': 2})
df_encoded['HasCabin'] = df_encoded['Cabin'].notna().astype(int)

# Calculate correlation with survival
features = ['Pclass', 'Sex', 'Age', 'SibSp', 'Parch', 'Fare', 'Embarked', 'HasCabin']
corr_with_survival = []
for feature in features:
    if feature in df_encoded.columns:
        correlation = df_encoded[['Survived', feature]].corr().iloc[0, 1]
        corr_with_survival.append((feature, correlation))

# Sort by absolute correlation
corr_with_survival.sort(key=lambda x: abs(x[1]), reverse=True)

# Plot
features = [x[0] for x in corr_with_survival]
correlations = [x[1] for x in corr_with_survival]
colors = ['#1f77b4' if corr >= 0 else '#d62728' for corr in correlations]

plt.figure(figsize=(12, 8))
bars = plt.barh(features, correlations)
plt.xlabel('Correlation with Survival')
plt.title('Feature Importance for Survival Prediction', fontsize=16)
plt.grid(axis='x', linestyle='--', alpha=0.7)
plt.tight_layout()
plt.show()

print("\n## 5.1 Key Inferences")
print("""
1. Gender was the strongest predictor of survival, with women having much higher survival rates (74.2% vs 18.9%)
2. Social class (indicated by ticket class) strongly influenced survival chances (1st: 63.0%, 2nd: 47.3%, 3rd: 24.2%)
3. Age played a role in survival, with children having priority (58.0% survival rate)
4. Family size affected survival, with small families (1-3 members) having better chances
5. The port of embarkation correlated with survival rates (Cherbourg: 55.4%, Queenstown: 39.0%, Southampton: 33.7%)
6. There is a significant interaction effect between gender and class
""")

print("\n# 6. Conclusion")
print("""
The Titanic dataset reveals clear patterns of survival based on demographic and socio-economic factors. Gender was the strongest predictor of survival, followed by passenger class. Age played a role, particularly for children, while family size showed a non-linear relationship with survival probability.

These insights provide a foundation for both understanding the historical event and building predictive models. The feature-level inferences suggest that a combination of social norms ('women and children first'), economic privilege (class-based access to lifeboats), and practical factors (cabin location, family coordination) determined survival outcomes during this maritime disaster.
""")
